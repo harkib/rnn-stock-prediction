{
 "metadata": {
  "language_info": {
   "codemirror_mode": {
    "name": "ipython",
    "version": 3
   },
   "file_extension": ".py",
   "mimetype": "text/x-python",
   "name": "python",
   "nbconvert_exporter": "python",
   "pygments_lexer": "ipython3",
   "version": "3.8.2-final"
  },
  "orig_nbformat": 2,
  "kernelspec": {
   "name": "python38264bit0429f146496f4ea290801458aa87e618",
   "display_name": "Python 3.8.2 64-bit"
  }
 },
 "nbformat": 4,
 "nbformat_minor": 2,
 "cells": [
  {
   "cell_type": "code",
   "execution_count": 1,
   "metadata": {},
   "outputs": [],
   "source": [
    "import torch\n",
    "import torch.nn as nn\n",
    "import torch.nn.functional as F\n",
    "import torch.optim as optim\n",
    "from torch.utils.data import TensorDataset, DataLoader\n",
    "from sklearn.model_selection import train_test_split\n",
    "import pandas as pd \n",
    "import numpy as np \n",
    "import pickle "
   ]
  },
  {
   "source": [
    "# Define Model"
   ],
   "cell_type": "markdown",
   "metadata": {}
  },
  {
   "cell_type": "code",
   "execution_count": 2,
   "metadata": {},
   "outputs": [],
   "source": [
    "class lstm_Classifier(nn.Module):\n",
    "    def __init__ (self, input_size, hidden_size, num_layers, batch_size, dropout, num_classes):\n",
    "        super(lstm_Classifier, self).__init__()\n",
    "\n",
    "        self.input_size = input_size\n",
    "        self.hidden_size = hidden_size\n",
    "        self.num_layers = num_layers\n",
    "        self.batch_size = batch_size\n",
    "        self.dropout = dropout\n",
    "        self.num_classes = num_classes\n",
    "\n",
    "        self.lstm = nn.LSTM(input_size = input_size, hidden_size = hidden_size, \n",
    "                            num_layers = num_layers, dropout= dropout)\n",
    "        self.fc = nn.Linear(hidden_size,num_classes)\n",
    "\n",
    "    def init_hidden(self, curr_batch_size):\n",
    "        hidden = (torch.randn(self.num_layers, curr_batch_size, self.hidden_size),\n",
    "                  torch.randn(self.num_layers, curr_batch_size, self.hidden_size))\n",
    "        return hidden\n",
    "\n",
    "    def forward(self, X, curr_batch_size, hidden = None): \n",
    "        \n",
    "        if hidden == None: \n",
    "            hidden = self.init_hidden(curr_batch_size)\n",
    "\n",
    "        X,_ = self.lstm(X, hidden)\n",
    "        X = self.fc(X[-1])\n",
    "\n",
    "        return X"
   ]
  },
  {
   "cell_type": "code",
   "execution_count": 3,
   "metadata": {},
   "outputs": [],
   "source": [
    "# difine architecture\n",
    "input_size = 4\n",
    "num_layers = 5\n",
    "hidden_size = 4\n",
    "batch_size = 8\n",
    "num_classes = 3\n",
    "# input = [Open, HIgh, low, Close] output = [Up, Neutral, Down]\n",
    "model = lstm_Classifier(input_size = input_size, hidden_size = hidden_size, num_layers = num_layers,\n",
    "                        batch_size=batch_size, dropout= .05, num_classes=num_classes)"
   ]
  },
  {
   "source": [
    "# Prepare Data"
   ],
   "cell_type": "markdown",
   "metadata": {}
  },
  {
   "cell_type": "code",
   "execution_count": 4,
   "metadata": {
    "tags": []
   },
   "outputs": [
    {
     "output_type": "execute_result",
     "data": {
      "text/plain": "(-0.272, -0.00514]          5027\n(0.00522, 850463161.951]    5026\n(-0.00514, 0.00522]         5026\nName: Change, dtype: int64"
     },
     "metadata": {},
     "execution_count": 4
    }
   ],
   "source": [
    "# each row holds the time series (list) open, high, low, close of a stock over a single day\n",
    "# each list has 17 elements \n",
    "#  0 - 5 : pre\n",
    "#  6 -12 : market\n",
    "#  13 - 16: post\n",
    "# we attemp to use the pre data to predict the change in market open and close\n",
    "features = 4 # input = [Open, HIgh, low, Close] \n",
    "sequence_len = 6\n",
    "\n",
    "# load data\n",
    "data = pd.read_pickle('Data/NASDEQ_data.pkl')\n",
    "\n",
    "# remove bad data\n",
    "data = data[data['Close'].map(len) > 12]\n",
    "\n",
    "# calculate change \n",
    "data['Change'] = data.apply(lambda x: (x['Close'][12] - x['Open'][6])/x['Open'][6], axis = 1)\n",
    "\n",
    "# define labels\n",
    "data['Label'] = pd.qcut(data['Change'],q=3,labels=[0,1,2])\n",
    "pd.qcut(data['Change'],q=3).value_counts() #view ranges"
   ]
  },
  {
   "cell_type": "code",
   "execution_count": 5,
   "metadata": {
    "tags": []
   },
   "outputs": [],
   "source": [
    "# isolate pre market data\n",
    "cols = ['Open', 'High', 'Low', 'Close'] \n",
    "pre = pd.DataFrame()\n",
    "for col in cols:\n",
    "    pre[col] = data.apply(lambda x: x[col][0:6],axis = 1)\n",
    "\n",
    "# create input array\n",
    "X = np.array(list(pre.apply(lambda x: [x['Open'],x['High'],x['Low'],x['Close']],axis = 1)))\n",
    "X = np.reshape(X, (-1,sequence_len,features))\n",
    "\n",
    "# create output array\n",
    "y = list(data['Label'])\n",
    "\n",
    "# Split data\n",
    "X_train, X_test, y_train, y_test = train_test_split(X, y)\n",
    "\n",
    "# create data loaders\n",
    "train_data = TensorDataset(torch.from_numpy(X_train).double(),torch.tensor(y_train))\n",
    "test_data = TensorDataset(torch.from_numpy(X_test).double(),torch.tensor(y_test))\n",
    "train_loader = DataLoader(train_data, shuffle=True, batch_size=batch_size)\n",
    "test_loader = DataLoader(test_data, shuffle=True, batch_size=batch_size)"
   ]
  },
  {
   "cell_type": "code",
   "execution_count": 6,
   "metadata": {
    "tags": []
   },
   "outputs": [],
   "source": [
    "# test data shape\n",
    "# sequence_len = 2\n",
    "# inputs = [torch.randn(sequence_len, batch_size, input_size) for _ in range(10)]\n",
    "\n",
    "# for i in inputs:   \n",
    "#     out = model(i)\n",
    "#     print(out)\n",
    "\n",
    "for i, label in train_loader:\n",
    "\n",
    "    curr_batch_size = list(i.shape)[0]\n",
    "    out = model(i.view(sequence_len, curr_batch_size, input_size).float(),curr_batch_size)"
   ]
  },
  {
   "cell_type": "code",
   "execution_count": null,
   "metadata": {},
   "outputs": [],
   "source": []
  }
 ]
}