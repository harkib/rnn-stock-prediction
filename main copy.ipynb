{
 "metadata": {
  "language_info": {
   "codemirror_mode": {
    "name": "ipython",
    "version": 3
   },
   "file_extension": ".py",
   "mimetype": "text/x-python",
   "name": "python",
   "nbconvert_exporter": "python",
   "pygments_lexer": "ipython3",
   "version": "3.8.2-final"
  },
  "orig_nbformat": 2,
  "kernelspec": {
   "name": "python38264bit0429f146496f4ea290801458aa87e618",
   "display_name": "Python 3.8.2 64-bit"
  }
 },
 "nbformat": 4,
 "nbformat_minor": 2,
 "cells": [
  {
   "cell_type": "code",
   "execution_count": 1,
   "metadata": {},
   "outputs": [],
   "source": [
    "import torch\n",
    "import torch.nn as nn\n",
    "import torch.nn.functional as F\n",
    "import torch.optim as optim\n",
    "import pandas as pd \n",
    "import numpy as np \n",
    "import pickle "
   ]
  },
  {
   "source": [
    "# Define Model"
   ],
   "cell_type": "markdown",
   "metadata": {}
  },
  {
   "cell_type": "code",
   "execution_count": 2,
   "metadata": {},
   "outputs": [],
   "source": [
    "class lstm_Classifier(nn.Module):\n",
    "    def __init__ (self, input_size, hidden_size, num_layers, batch_size, dropout, num_classes):\n",
    "        super(lstm_Classifier, self).__init__()\n",
    "\n",
    "        self.input_size = input_size\n",
    "        self.hidden_size = hidden_size\n",
    "        self.num_layers = num_layers\n",
    "        self.batch_size = batch_size\n",
    "        self.dropout = dropout\n",
    "        self.num_classes = num_classes\n",
    "\n",
    "        self.lstm = nn.LSTM(input_size = input_size, hidden_size = hidden_size, \n",
    "                            num_layers = num_layers, dropout= dropout)\n",
    "        self.fc = nn.Linear(hidden_size,num_classes)\n",
    "\n",
    "    def init_hidden(self):\n",
    "        hidden = (torch.randn(self.num_layers, self.batch_size, self.hidden_size),\n",
    "                  torch.randn(self.num_layers, self.batch_size, self.hidden_size))\n",
    "        return hidden\n",
    "\n",
    "    def forward(self, X, hidden = None): \n",
    "        \n",
    "        if hidden == None: \n",
    "            hidden = self.init_hidden()\n",
    "\n",
    "        X,_ = self.lstm(X, hidden)\n",
    "        X = self.fc(X[-1])\n",
    "\n",
    "        return X"
   ]
  },
  {
   "cell_type": "code",
   "execution_count": 7,
   "metadata": {},
   "outputs": [],
   "source": [
    "input_size = 4\n",
    "num_layers = 5\n",
    "hidden_size = 4\n",
    "batch_size = 6\n",
    "lstm = nn.LSTM(input_size = input_size, hidden_size = hidden_size, num_layers = num_layers, dropout= .05) # input = [Open, HIgh, low, Close] output = [Up, Neutral, Down]"
   ]
  },
  {
   "cell_type": "code",
   "execution_count": 8,
   "metadata": {},
   "outputs": [],
   "source": [
    "model = lstm_Classifier(input_size = input_size, hidden_size = hidden_size,\n",
    "                                 num_layers = num_layers,batch_size=batch_size, dropout= .05, num_classes=3)"
   ]
  },
  {
   "cell_type": "code",
   "execution_count": 10,
   "metadata": {
    "tags": []
   },
   "outputs": [
    {
     "output_type": "stream",
     "name": "stdout",
     "text": "tensor([[ 0.5911, -0.3727,  0.1231],\n        [ 0.5050, -0.3263,  0.3073],\n        [ 0.6452, -0.3181,  0.1679],\n        [ 0.4925, -0.2197,  0.4348],\n        [ 0.4745, -0.2501,  0.2997],\n        [ 0.5789, -0.1922,  0.3918]], grad_fn=<AddmmBackward>)\ntensor([[ 0.4094, -0.1620,  0.4220],\n        [ 0.5720, -0.2716,  0.4027],\n        [ 0.5855, -0.2524,  0.3196],\n        [ 0.5784, -0.2685,  0.3520],\n        [ 0.5232, -0.4130,  0.4154],\n        [ 0.5466, -0.2249,  0.2849]], grad_fn=<AddmmBackward>)\ntensor([[ 0.5158, -0.3795,  0.2884],\n        [ 0.5375, -0.2310,  0.2456],\n        [ 0.5348, -0.2312,  0.4341],\n        [ 0.6264, -0.3255,  0.3834],\n        [ 0.4702, -0.2733,  0.3413],\n        [ 0.5794, -0.2520,  0.3490]], grad_fn=<AddmmBackward>)\ntensor([[ 0.5699, -0.2891,  0.2860],\n        [ 0.6285, -0.3316,  0.3064],\n        [ 0.5425, -0.2984,  0.3166],\n        [ 0.5620, -0.3181,  0.3408],\n        [ 0.5635, -0.2483,  0.2991],\n        [ 0.5292, -0.2923,  0.1905]], grad_fn=<AddmmBackward>)\ntensor([[ 0.5715, -0.2502,  0.4129],\n        [ 0.5890, -0.3797,  0.2477],\n        [ 0.6147, -0.3105,  0.3268],\n        [ 0.6137, -0.3612,  0.3527],\n        [ 0.6446, -0.3441,  0.2306],\n        [ 0.6027, -0.2440,  0.3490]], grad_fn=<AddmmBackward>)\ntensor([[ 0.5234, -0.2361,  0.3304],\n        [ 0.3710, -0.2747,  0.3682],\n        [ 0.6234, -0.2724,  0.4157],\n        [ 0.5290, -0.1690,  0.4178],\n        [ 0.5727, -0.2663,  0.3353],\n        [ 0.4965, -0.1956,  0.5297]], grad_fn=<AddmmBackward>)\ntensor([[ 0.5703, -0.3259,  0.3055],\n        [ 0.5937, -0.2807,  0.2633],\n        [ 0.6145, -0.2241,  0.3182],\n        [ 0.4092, -0.1440,  0.6943],\n        [ 0.5821, -0.3410,  0.2096],\n        [ 0.5882, -0.2953,  0.2953]], grad_fn=<AddmmBackward>)\ntensor([[ 0.6000, -0.2343,  0.3602],\n        [ 0.5956, -0.2889,  0.3496],\n        [ 0.6204, -0.2753,  0.3451],\n        [ 0.5599, -0.1766,  0.3005],\n        [ 0.4679, -0.1647,  0.4301],\n        [ 0.5494, -0.2589,  0.5035]], grad_fn=<AddmmBackward>)\ntensor([[ 0.5303, -0.2214,  0.5816],\n        [ 0.6102, -0.2880,  0.2993],\n        [ 0.5756, -0.2947,  0.2607],\n        [ 0.5755, -0.2317,  0.3533],\n        [ 0.3686, -0.2516,  0.2990],\n        [ 0.5024, -0.2545,  0.6370]], grad_fn=<AddmmBackward>)\ntensor([[ 0.5456, -0.4011,  0.1472],\n        [ 0.5704, -0.2865,  0.2930],\n        [ 0.6452, -0.3534,  0.4202],\n        [ 0.6544, -0.3630,  0.2997],\n        [ 0.5192, -0.2295,  0.3981],\n        [ 0.6033, -0.3400,  0.3376]], grad_fn=<AddmmBackward>)\n"
    }
   ],
   "source": [
    "\n",
    "sequence_len = 2\n",
    "inputs = [torch.randn(sequence_len, batch_size, input_size) for _ in range(10)]\n",
    "\n",
    "# initialize the hidden state.\n",
    "hidden = (torch.randn(num_layers, batch_size, hidden_size),\n",
    "          torch.randn(num_layers, batch_size, hidden_size)) \n",
    "\n",
    "for i in inputs:\n",
    "    # Step through the sequence one element at a time.\n",
    "    # after each step, hidden contains the hidden state.\n",
    "    \n",
    "    # out, hidden = lstm(i.view(sequence_len, batch_size, input_size), hidden)\n",
    "    # out, hidden = lstm(i, hidden)\n",
    "    # out, hidden = lstm(i)\n",
    "    # print(out)\n",
    "    \n",
    "    out = model(i)\n",
    "\n",
    "    print(out)\n",
    "    # print(hidden)"
   ]
  },
  {
   "cell_type": "code",
   "execution_count": 6,
   "metadata": {
    "tags": []
   },
   "outputs": [
    {
     "output_type": "stream",
     "name": "stdout",
     "text": "tensor([-0.1538, -0.5690,  0.3186], grad_fn=<SelectBackward>)\n"
    }
   ],
   "source": [
    "print(out[-1])"
   ]
  }
 ]
}